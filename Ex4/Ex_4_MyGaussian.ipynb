{
 "cells": [
  {
   "cell_type": "code",
   "execution_count": 36,
   "metadata": {},
   "outputs": [],
   "source": [
    "import numpy as np\n",
    "from scipy.misc import imread, imsave, imresize\n",
    "import skimage\n",
    "from skimage import data\n",
    "from skimage.feature import corner_harris\n",
    "from skimage.feature import peak_local_max\n",
    "import matplotlib.pyplot as plt\n",
    "from skimage import data,exposure, img_as_float\n",
    "import matplotlib.pyplot as plt\n",
    "from skimage import io\n",
    "%matplotlib inline\n",
    "from scipy.fftpack import fft, fftshift\n",
    "from math import sin,cos,pi\n",
    "import math"
   ]
  },
  {
   "cell_type": "code",
   "execution_count": 37,
   "metadata": {},
   "outputs": [
    {
     "data": {
      "text/plain": [
       "<matplotlib.image.AxesImage at 0xb3437b8>"
      ]
     },
     "execution_count": 37,
     "metadata": {},
     "output_type": "execute_result"
    },
    {
     "data": {
      "image/png": "[encoded data removed]",
      "text/plain": [
       "<matplotlib.figure.Figure at 0xb343cf8>"
      ]
     },
     "metadata": {},
     "output_type": "display_data"
    }
   ],
   "source": [
    "def generate_square():\n",
    "    sq = np.zeros((40,40))\n",
    "    sq[15:25,15:25] = 1\n",
    "    return sq\n",
    "\n",
    "\n",
    "plt.subplot(111)\n",
    "plt.imshow(generate_square(), cmap='gray')"
   ]
  },
  {
   "cell_type": "code",
   "execution_count": 50,
   "metadata": {},
   "outputs": [
    {
     "name": "stderr",
     "output_type": "stream",
     "text": [
      "C:\\ProgramData\\Anaconda2\\lib\\site-packages\\ipykernel_launcher.py:32: RuntimeWarning: divide by zero encountered in log10\n",
      "C:\\ProgramData\\Anaconda2\\lib\\site-packages\\ipykernel_launcher.py:50: RuntimeWarning: divide by zero encountered in log10\n"
     ]
    },
    {
     "data": {
      "image/png": "[encoded data removed]",
      "text/plain": [
       "<matplotlib.figure.Figure at 0xb117400>"
      ]
     },
     "metadata": {},
     "output_type": "display_data"
    },
    {
     "data": {
      "image/png": "[encoded data removed]",
      "text/plain": [
       "<matplotlib.figure.Figure at 0xb1cb390>"
      ]
     },
     "metadata": {},
     "output_type": "display_data"
    }
   ],
   "source": [
    "#         imgg =skimage.filters.gaussian(img, sigma= 0.5)\n",
    "\n",
    "\n",
    "def frecuency_smoothing(img,sigma):\n",
    "    \n",
    "    \n",
    "    \n",
    "    def generate_mask(shape,sigma):\n",
    "        # impliment the gaussian kernel\n",
    "        scale = 100\n",
    "        sigma=    (scale)/(sigma+1)\n",
    "        \n",
    "        rows, cols = shape\n",
    "        x = np.linspace(-1,1, cols) * cols\n",
    "        y = np.linspace(-1,1, rows) * rows\n",
    "        r = np.sqrt((x**2)[np.newaxis,:] + (y**2)[:,np.newaxis])\n",
    "        \n",
    "        mask =np.exp((-(r)**2)/(2*(sigma**2))) # version 1\n",
    "#         mask =255*np.exp((-(r))/(2*(sigma**2)))  # version 2\n",
    "        return mask\n",
    "\n",
    "\n",
    "\n",
    "\n",
    "    \n",
    "# Visualization of the spectrum of the image before smoothing\n",
    "    img=np.asarray(img)\n",
    "    fft_img=np.fft.fft2(img)\n",
    "    fft_img = np.fft.fftshift(fft_img)\n",
    "    plt.figure(figsize=(15,15))\n",
    "    plt.subplot(131)\n",
    "    plt.imshow(20*np.log10(abs(fft_img)),cmap=\"gray\")\n",
    "#     plt.imshow(abs(fft_img),cmap=\"gray\")\n",
    "\n",
    "    plt.title('Visualization of the spectrum \\n of the image before smoothing')\n",
    "\n",
    "    \n",
    "    shape=img.shape\n",
    "    mask=generate_mask(shape,sigma)\n",
    "    \n",
    "    \n",
    "    smoothed_image = mask * fft_img\n",
    "    \n",
    "#     Visualization of the spectrum of the image after smoothing\n",
    "#     smoothed_image_fft=np.asarray(img)\n",
    "#     smoothed_image_fft=np.fft.fft2(smoothed_image_fft)\n",
    "#     smoothed_image_fft = np.fft.fftshift(smoothed_image_fft)\n",
    "    plt.subplot(132)\n",
    "    \n",
    "    plt.imshow(20*np.log10(abs(smoothed_image)),cmap=\"gray\")\n",
    "#     plt.imshow(abs(smoothed_image),cmap=\"gray\")\n",
    "\n",
    "    plt.title('Visualization of the spectrum\\n of the image after smoothing')\n",
    "    \n",
    "#     plt.subplot(133)\n",
    "#     plt.imshow(20*np.log10(abs(smoothed_image_fft))-20*np.log10(abs(fft_img)))\n",
    "#     plt.title('Visualization of the diff of spectrum\\n of the image before after smoothing')\n",
    "    \n",
    "    plt.show()\n",
    "\n",
    "\n",
    "    out = np.fft.ifft2(np.fft.ifftshift(smoothed_image))\n",
    "    smoothed_image=out\n",
    "    \n",
    "    return smoothed_image\n",
    "\n",
    "######################### main ###################################\n",
    "\n",
    "img= generate_square()\n",
    "# img = io.imread('cammeraman.png')\n",
    "img= skimage.color.rgb2gray(img)\n",
    "Image=img_as_float(img)\n",
    "\n",
    "\n",
    "\n",
    "# s=0.01\n",
    "s=99\n",
    "sigma=70\n",
    "\n",
    "                                                     \n",
    "# our customized gaussian \n",
    "frecuency_smoothed=frecuency_smoothing(Image,sigma)\n",
    "\n",
    "\n",
    "\n",
    "\n",
    "# built in gaussian \n",
    "# imgg =skimage.filters.gaussian(Image, sigma=s)\n",
    "\n",
    "plt.figure(figsize=(15,15))\n",
    "plt.subplot(131)\n",
    "plt.imshow(np.abs(frecuency_smoothed), cmap='gray')\n",
    "\n",
    "plt.title('my Gaussian')\n",
    "\n",
    "# plt.subplot(132)\n",
    "# plt.imshow(imgg, cmap='gray')\n",
    "# plt.title('Gaussian')\n",
    "\n",
    "# plt.subplot(133)\n",
    "# plt.imshow(imgg-np.abs(frecuency_smoothed), cmap='gray')\n",
    "# plt.title('diff myGaussian and Gaussian')\n",
    "\n",
    "plt.show() \n",
    "\n",
    "\n"
   ]
  },
  {
   "cell_type": "code",
   "execution_count": null,
   "metadata": {
    "collapsed": true
   },
   "outputs": [],
   "source": []
  },
  {
   "cell_type": "code",
   "execution_count": null,
   "metadata": {
    "collapsed": true
   },
   "outputs": [],
   "source": []
  }
 ],
 "metadata": {
  "kernelspec": {
   "display_name": "Python 2",
   "language": "python",
   "name": "python2"
  },
  "language_info": {
   "codemirror_mode": {
    "name": "ipython",
    "version": 2
   },
   "file_extension": ".py",
   "mimetype": "text/x-python",
   "name": "python",
   "nbconvert_exporter": "python",
   "pygments_lexer": "ipython2",
   "version": "2.7.13"
  }
 },
 "nbformat": 4,
 "nbformat_minor": 2
}
